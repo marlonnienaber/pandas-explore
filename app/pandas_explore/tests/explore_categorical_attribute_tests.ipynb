{
 "cells": [
  {
   "cell_type": "code",
   "execution_count": 1,
   "metadata": {},
   "outputs": [],
   "source": [
    "import pandas as pd\n",
    "from pandas_explore import explore_categorical_attribute"
   ]
  },
  {
   "cell_type": "markdown",
   "metadata": {},
   "source": [
    "**1) display distribution**  \n",
    "The function should display the distribution of the categorical data"
   ]
  },
  {
   "cell_type": "code",
   "execution_count": 2,
   "metadata": {},
   "outputs": [
    {
     "data": {
      "text/html": [
       "<div style='display: flex; flex-wrap: wrap;'>\n",
       "                <div style='margin: 10px; padding: 10px; border: 1px solid #ccc;'>\n",
       "                    <img src='data:image/png;base64,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' style='display: block; margin: 0 auto;'>\n",
       "                </div>\n",
       "            </div>"
      ],
      "text/plain": [
       "<IPython.core.display.HTML object>"
      ]
     },
     "metadata": {},
     "output_type": "display_data"
    }
   ],
   "source": [
    "data = {\n",
    "    'data': [\n",
    "        \"A\", \"A\", \"A\", \"A\", \"A\", \"A\", \"A\", \"A\", # 8\n",
    "        \"B\", \"B\", \"B\", \"B\",                     # 4\n",
    "        \"C\", \"C\", \"C\", \"C\",                     # 4\n",
    "        \"D\",                                    # 1\n",
    "        \"E\",                                    # 1\n",
    "        \"F\",                                    # 1\n",
    "        None, None                              # 2\n",
    "    ]\n",
    "}\n",
    "\n",
    "df = pd.DataFrame(data)\n",
    "\n",
    "explore_categorical_attribute(df['data'])"
   ]
  },
  {
   "cell_type": "markdown",
   "metadata": {},
   "source": [
    "**2) empty column**  \n",
    "The function should display that the column is empty"
   ]
  },
  {
   "cell_type": "code",
   "execution_count": 3,
   "metadata": {},
   "outputs": [
    {
     "data": {
      "text/html": [
       "<div style='display: flex; flex-wrap: wrap;'>\n",
       "            <div style='margin: 10px; padding: 10px; border: 1px solid #ccc; text-align: left;'>\n",
       "                <h4>Notes</h4>\n",
       "                <ul style='list-style-type: none; padding: 0; margin: 0; text-align: left;'><li style='margin: 5px 0;'>- column is empty</li></ul>\n",
       "            </div>\n",
       "        </div>"
      ],
      "text/plain": [
       "<IPython.core.display.HTML object>"
      ]
     },
     "metadata": {},
     "output_type": "display_data"
    }
   ],
   "source": [
    "data = {\n",
    "    'column': []\n",
    "}\n",
    "\n",
    "df = pd.DataFrame(data)\n",
    "\n",
    "explore_categorical_attribute(df[\"column\"])"
   ]
  }
 ],
 "metadata": {
  "kernelspec": {
   "display_name": "Python (pandas_explore)",
   "language": "python",
   "name": "your_env_name"
  },
  "language_info": {
   "codemirror_mode": {
    "name": "ipython",
    "version": 3
   },
   "file_extension": ".py",
   "mimetype": "text/x-python",
   "name": "python",
   "nbconvert_exporter": "python",
   "pygments_lexer": "ipython3",
   "version": "3.13.1"
  }
 },
 "nbformat": 4,
 "nbformat_minor": 2
}
