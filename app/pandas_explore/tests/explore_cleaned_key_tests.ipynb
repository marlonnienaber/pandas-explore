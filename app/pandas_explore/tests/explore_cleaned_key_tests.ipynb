{
 "cells": [
  {
   "cell_type": "code",
   "execution_count": 1,
   "metadata": {},
   "outputs": [],
   "source": [
    "import pandas as pd\n",
    "from pandas_explore import explore_cleaned_key"
   ]
  },
  {
   "cell_type": "markdown",
   "metadata": {},
   "source": [
    "**1) single column**  \n",
    "The function should display length and duplicates"
   ]
  },
  {
   "cell_type": "code",
   "execution_count": 2,
   "metadata": {},
   "outputs": [
    {
     "data": {
      "text/html": [
       "<div style='display: flex; flex-wrap: wrap;'>\n",
       "            <div style='margin: 10px; padding: 10px; border: 1px solid #ccc; text-align: left;'>\n",
       "                <h4>Notes</h4>\n",
       "                <ul style='list-style-type: none; padding: 0; margin: 0; text-align: left;'><li style='margin: 5px 0;'>- rows: 10</li></ul>\n",
       "            </div>\n",
       "        \n",
       "                <div style='margin: 10px; padding: 10px; border: 1px solid #ccc;'>\n",
       "                    <table border=\"1\" class=\"dataframe\">\n",
       "  <thead>\n",
       "    <tr style=\"text-align: right;\">\n",
       "      <th>contained duplicates</th>\n",
       "      <th>count</th>\n",
       "    </tr>\n",
       "  </thead>\n",
       "  <tbody>\n",
       "    <tr>\n",
       "      <td>A</td>\n",
       "      <td>3</td>\n",
       "    </tr>\n",
       "    <tr>\n",
       "      <td>B</td>\n",
       "      <td>2</td>\n",
       "    </tr>\n",
       "    <tr>\n",
       "      <td>C</td>\n",
       "      <td>2</td>\n",
       "    </tr>\n",
       "  </tbody>\n",
       "</table>\n",
       "                </div>\n",
       "            </div>"
      ],
      "text/plain": [
       "<IPython.core.display.HTML object>"
      ]
     },
     "metadata": {},
     "output_type": "display_data"
    }
   ],
   "source": [
    "single_column_data = pd.Series(\n",
    "    ['A', 'A', 'A', 'B', 'B', 'C', 'C', 'D', 'E', 'F'], \n",
    "    name='key'\n",
    ")\n",
    "\n",
    "explore_cleaned_key(single_column_data)"
   ]
  },
  {
   "cell_type": "markdown",
   "metadata": {},
   "source": [
    "**2) multi-column**  \n",
    "The function should display length and duplicates"
   ]
  },
  {
   "cell_type": "code",
   "execution_count": 6,
   "metadata": {},
   "outputs": [
    {
     "data": {
      "text/html": [
       "<div style='display: flex; flex-wrap: wrap;'>\n",
       "            <div style='margin: 10px; padding: 10px; border: 1px solid #ccc; text-align: left;'>\n",
       "                <h4>Notes</h4>\n",
       "                <ul style='list-style-type: none; padding: 0; margin: 0; text-align: left;'><li style='margin: 5px 0;'>- rows: 7</li></ul>\n",
       "            </div>\n",
       "        \n",
       "                <div style='margin: 10px; padding: 10px; border: 1px solid #ccc;'>\n",
       "                    <table border=\"1\" class=\"dataframe\">\n",
       "  <thead>\n",
       "    <tr style=\"text-align: right;\">\n",
       "      <th>contained duplicates</th>\n",
       "      <th>count</th>\n",
       "    </tr>\n",
       "  </thead>\n",
       "  <tbody>\n",
       "    <tr>\n",
       "      <td>(A, 1)</td>\n",
       "      <td>2</td>\n",
       "    </tr>\n",
       "    <tr>\n",
       "      <td>(B, 3)</td>\n",
       "      <td>2</td>\n",
       "    </tr>\n",
       "  </tbody>\n",
       "</table>\n",
       "                </div>\n",
       "            </div>"
      ],
      "text/plain": [
       "<IPython.core.display.HTML object>"
      ]
     },
     "metadata": {},
     "output_type": "display_data"
    }
   ],
   "source": [
    "multi_column_data = pd.DataFrame({\n",
    "    'name1': ['A', 'A', 'B', 'B', 'C', 'D', 'E'],\n",
    "    'name2': [1, 1, 3, 3, 2, 3, 5]\n",
    "})\n",
    "\n",
    "explore_cleaned_key(multi_column_data)"
   ]
  }
 ],
 "metadata": {
  "kernelspec": {
   "display_name": "Python (pandas_explore)",
   "language": "python",
   "name": "your_env_name"
  },
  "language_info": {
   "codemirror_mode": {
    "name": "ipython",
    "version": 3
   },
   "file_extension": ".py",
   "mimetype": "text/x-python",
   "name": "python",
   "nbconvert_exporter": "python",
   "pygments_lexer": "ipython3",
   "version": "3.13.1"
  }
 },
 "nbformat": 4,
 "nbformat_minor": 2
}
