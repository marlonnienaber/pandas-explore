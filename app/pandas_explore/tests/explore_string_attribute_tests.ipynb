{
 "cells": [
  {
   "cell_type": "code",
   "execution_count": 16,
   "metadata": {},
   "outputs": [],
   "source": [
    "import pandas as pd\n",
    "from pandas_explore import explore_string_attribute "
   ]
  },
  {
   "cell_type": "markdown",
   "metadata": {},
   "source": [
    "**1) only string entries**  \n",
    "The function should display that the column contains only string values"
   ]
  },
  {
   "cell_type": "code",
   "execution_count": 17,
   "metadata": {},
   "outputs": [
    {
     "data": {
      "text/html": [
       "<div style='display: flex; flex-wrap: wrap;'>\n",
       "            <div style='margin: 10px; padding: 10px; border: 1px solid #ccc; text-align: left;'>\n",
       "                <h4>Notes</h4>\n",
       "                <ul style='list-style-type: none; padding: 0; margin: 0; text-align: left;'><li style='margin: 5px 0;'>- contains only valid strings</li><li style='margin: 5px 0;'>- max string length: 6</li><li style='margin: 5px 0;'>- min string length: 4</li><li style='margin: 5px 0;'>- median string length: 5.0</li></ul>\n",
       "            </div>\n",
       "        \n",
       "                <div style='margin: 10px; padding: 10px; border: 1px solid #ccc;'>\n",
       "                    <table border=\"1\" class=\"dataframe\">\n",
       "  <thead>\n",
       "    <tr style=\"text-align: right;\">\n",
       "      <th>duplicate entries</th>\n",
       "      <th>count</th>\n",
       "    </tr>\n",
       "  </thead>\n",
       "  <tbody>\n",
       "    <tr>\n",
       "      <td>apple</td>\n",
       "      <td>3</td>\n",
       "    </tr>\n",
       "    <tr>\n",
       "      <td>banana</td>\n",
       "      <td>2</td>\n",
       "    </tr>\n",
       "    <tr>\n",
       "      <td>date</td>\n",
       "      <td>2</td>\n",
       "    </tr>\n",
       "    <tr>\n",
       "      <td>kiwi</td>\n",
       "      <td>2</td>\n",
       "    </tr>\n",
       "    <tr>\n",
       "      <td>melon</td>\n",
       "      <td>2</td>\n",
       "    </tr>\n",
       "    <tr>\n",
       "      <td>berry</td>\n",
       "      <td>2</td>\n",
       "    </tr>\n",
       "  </tbody>\n",
       "</table>\n",
       "                </div>\n",
       "            </div>"
      ],
      "text/plain": [
       "<IPython.core.display.HTML object>"
      ]
     },
     "metadata": {},
     "output_type": "display_data"
    }
   ],
   "source": [
    "data = {\n",
    "    'column': [\n",
    "        \"apple\", \"banana\", \"cherry\", \"date\", \"banana\", \"grape\", \n",
    "        \"kiwi\", \"apple\", \"melon\", \"apple\", \"plum\", \"pear\", \n",
    "        \"berry\", \"citrus\", \"melon\", \"berry\", \"kiwi\", \"date\"\n",
    "    ]\n",
    "}\n",
    "\n",
    "df = pd.DataFrame(data)\n",
    "\n",
    "explore_string_attribute(df['column'])"
   ]
  },
  {
   "cell_type": "markdown",
   "metadata": {},
   "source": [
    "**2) non-string entries**  \n",
    "The function should display that the column contains non-string values and their occurence count (1 -> 3 | 15.0 -> 1) "
   ]
  },
  {
   "cell_type": "code",
   "execution_count": 18,
   "metadata": {},
   "outputs": [
    {
     "data": {
      "text/html": [
       "<div style='display: flex; flex-wrap: wrap;'>\n",
       "            <div style='margin: 10px; padding: 10px; border: 1px solid #ccc; text-align: left;'>\n",
       "                <h4>Notes</h4>\n",
       "                <ul style='list-style-type: none; padding: 0; margin: 0; text-align: left;'><li style='margin: 5px 0;'>- max string length: 6</li><li style='margin: 5px 0;'>- min string length: 4</li><li style='margin: 5px 0;'>- median string length: 5.0</li></ul>\n",
       "            </div>\n",
       "        \n",
       "                <div style='margin: 10px; padding: 10px; border: 1px solid #ccc;'>\n",
       "                    <table border=\"1\" class=\"dataframe\">\n",
       "  <thead>\n",
       "    <tr style=\"text-align: right;\">\n",
       "      <th>contained non-strings</th>\n",
       "      <th>count</th>\n",
       "    </tr>\n",
       "  </thead>\n",
       "  <tbody>\n",
       "    <tr>\n",
       "      <td>1.0</td>\n",
       "      <td>3</td>\n",
       "    </tr>\n",
       "    <tr>\n",
       "      <td>15.0</td>\n",
       "      <td>1</td>\n",
       "    </tr>\n",
       "  </tbody>\n",
       "</table>\n",
       "                </div>\n",
       "            \n",
       "                <div style='margin: 10px; padding: 10px; border: 1px solid #ccc;'>\n",
       "                    <table border=\"1\" class=\"dataframe\">\n",
       "  <thead>\n",
       "    <tr style=\"text-align: right;\">\n",
       "      <th>duplicate entries</th>\n",
       "      <th>count</th>\n",
       "    </tr>\n",
       "  </thead>\n",
       "  <tbody>\n",
       "    <tr>\n",
       "      <td>apple</td>\n",
       "      <td>3</td>\n",
       "    </tr>\n",
       "    <tr>\n",
       "      <td>banana</td>\n",
       "      <td>2</td>\n",
       "    </tr>\n",
       "    <tr>\n",
       "      <td>date</td>\n",
       "      <td>2</td>\n",
       "    </tr>\n",
       "    <tr>\n",
       "      <td>kiwi</td>\n",
       "      <td>2</td>\n",
       "    </tr>\n",
       "    <tr>\n",
       "      <td>melon</td>\n",
       "      <td>2</td>\n",
       "    </tr>\n",
       "    <tr>\n",
       "      <td>berry</td>\n",
       "      <td>2</td>\n",
       "    </tr>\n",
       "  </tbody>\n",
       "</table>\n",
       "                </div>\n",
       "            </div>"
      ],
      "text/plain": [
       "<IPython.core.display.HTML object>"
      ]
     },
     "metadata": {},
     "output_type": "display_data"
    }
   ],
   "source": [
    "data = {\n",
    "    'column': [\n",
    "        \"apple\", \"banana\", \"cherry\", \"date\", \"banana\", \"grape\", \n",
    "        \"kiwi\", \"apple\", \"melon\", \"apple\", \"plum\", \"pear\", \n",
    "        \"berry\", \"citrus\", \"melon\", \"berry\", \"kiwi\", \"date\", 1, 1, 1, 15.0\n",
    "    ]\n",
    "}\n",
    "\n",
    "df = pd.DataFrame(data)\n",
    "\n",
    "explore_string_attribute(df['column'])"
   ]
  },
  {
   "cell_type": "markdown",
   "metadata": {},
   "source": [
    "**3) string lengths**  \n",
    "The function should display the max/min/median occuring string length"
   ]
  },
  {
   "cell_type": "code",
   "execution_count": 19,
   "metadata": {},
   "outputs": [
    {
     "data": {
      "text/html": [
       "<div style='display: flex; flex-wrap: wrap;'>\n",
       "            <div style='margin: 10px; padding: 10px; border: 1px solid #ccc; text-align: left;'>\n",
       "                <h4>Notes</h4>\n",
       "                <ul style='list-style-type: none; padding: 0; margin: 0; text-align: left;'><li style='margin: 5px 0;'>- contains only valid strings</li><li style='margin: 5px 0;'>- max string length: 3</li><li style='margin: 5px 0;'>- min string length: 1</li><li style='margin: 5px 0;'>- median string length: 2.0</li><li style='margin: 5px 0;'>- valid entries contain no duplicates</li></ul>\n",
       "            </div>\n",
       "        </div>"
      ],
      "text/plain": [
       "<IPython.core.display.HTML object>"
      ]
     },
     "metadata": {},
     "output_type": "display_data"
    }
   ],
   "source": [
    "data = {\n",
    "    'column': [\n",
    "        \"a\",\n",
    "        \"ab\",\n",
    "        \"abc\"\n",
    "    ]\n",
    "}\n",
    "\n",
    "df = pd.DataFrame(data)\n",
    "\n",
    "explore_string_attribute(df['column'])"
   ]
  },
  {
   "cell_type": "markdown",
   "metadata": {},
   "source": [
    "**4) no duplicates**  \n",
    "The function should display that the string entries contain no duplicates."
   ]
  },
  {
   "cell_type": "code",
   "execution_count": 20,
   "metadata": {},
   "outputs": [
    {
     "data": {
      "text/html": [
       "<div style='display: flex; flex-wrap: wrap;'>\n",
       "            <div style='margin: 10px; padding: 10px; border: 1px solid #ccc; text-align: left;'>\n",
       "                <h4>Notes</h4>\n",
       "                <ul style='list-style-type: none; padding: 0; margin: 0; text-align: left;'><li style='margin: 5px 0;'>- max string length: 3</li><li style='margin: 5px 0;'>- min string length: 1</li><li style='margin: 5px 0;'>- median string length: 2.0</li><li style='margin: 5px 0;'>- valid entries contain no duplicates</li></ul>\n",
       "            </div>\n",
       "        \n",
       "                <div style='margin: 10px; padding: 10px; border: 1px solid #ccc;'>\n",
       "                    <table border=\"1\" class=\"dataframe\">\n",
       "  <thead>\n",
       "    <tr style=\"text-align: right;\">\n",
       "      <th>contained non-strings</th>\n",
       "      <th>count</th>\n",
       "    </tr>\n",
       "  </thead>\n",
       "  <tbody>\n",
       "    <tr>\n",
       "      <td>None</td>\n",
       "      <td>2</td>\n",
       "    </tr>\n",
       "  </tbody>\n",
       "</table>\n",
       "                </div>\n",
       "            </div>"
      ],
      "text/plain": [
       "<IPython.core.display.HTML object>"
      ]
     },
     "metadata": {},
     "output_type": "display_data"
    }
   ],
   "source": [
    "data = {\n",
    "    'column': [\n",
    "        \"a\",\n",
    "        \"ab\",\n",
    "        \"abc\",\n",
    "        None, None\n",
    "    ]\n",
    "}\n",
    "\n",
    "df = pd.DataFrame(data)\n",
    "\n",
    "explore_string_attribute(df['column'])"
   ]
  },
  {
   "cell_type": "markdown",
   "metadata": {},
   "source": [
    "**5) duplicates**  \n",
    "The function should display the duplicates occuring in the string entires and how often they occur (\"a\" -> 3 | \"abc\" -> 2)."
   ]
  },
  {
   "cell_type": "code",
   "execution_count": 21,
   "metadata": {},
   "outputs": [
    {
     "data": {
      "text/html": [
       "<div style='display: flex; flex-wrap: wrap;'>\n",
       "            <div style='margin: 10px; padding: 10px; border: 1px solid #ccc; text-align: left;'>\n",
       "                <h4>Notes</h4>\n",
       "                <ul style='list-style-type: none; padding: 0; margin: 0; text-align: left;'><li style='margin: 5px 0;'>- max string length: 3</li><li style='margin: 5px 0;'>- min string length: 1</li><li style='margin: 5px 0;'>- median string length: 2.0</li></ul>\n",
       "            </div>\n",
       "        \n",
       "                <div style='margin: 10px; padding: 10px; border: 1px solid #ccc;'>\n",
       "                    <table border=\"1\" class=\"dataframe\">\n",
       "  <thead>\n",
       "    <tr style=\"text-align: right;\">\n",
       "      <th>contained non-strings</th>\n",
       "      <th>count</th>\n",
       "    </tr>\n",
       "  </thead>\n",
       "  <tbody>\n",
       "    <tr>\n",
       "      <td>None</td>\n",
       "      <td>2</td>\n",
       "    </tr>\n",
       "  </tbody>\n",
       "</table>\n",
       "                </div>\n",
       "            \n",
       "                <div style='margin: 10px; padding: 10px; border: 1px solid #ccc;'>\n",
       "                    <table border=\"1\" class=\"dataframe\">\n",
       "  <thead>\n",
       "    <tr style=\"text-align: right;\">\n",
       "      <th>duplicate entries</th>\n",
       "      <th>count</th>\n",
       "    </tr>\n",
       "  </thead>\n",
       "  <tbody>\n",
       "    <tr>\n",
       "      <td>a</td>\n",
       "      <td>3</td>\n",
       "    </tr>\n",
       "    <tr>\n",
       "      <td>abc</td>\n",
       "      <td>2</td>\n",
       "    </tr>\n",
       "  </tbody>\n",
       "</table>\n",
       "                </div>\n",
       "            </div>"
      ],
      "text/plain": [
       "<IPython.core.display.HTML object>"
      ]
     },
     "metadata": {},
     "output_type": "display_data"
    }
   ],
   "source": [
    "data = {\n",
    "    'column': [\n",
    "        \"a\",\"a\",\"a\",\n",
    "        \"ab\",\n",
    "        \"abc\",\"abc\",\n",
    "        None, None\n",
    "    ]\n",
    "}\n",
    "\n",
    "df = pd.DataFrame(data)\n",
    "\n",
    "explore_string_attribute(df['column'])"
   ]
  },
  {
   "cell_type": "markdown",
   "metadata": {},
   "source": [
    "**6) empty column**  \n",
    "The function should display that the column is empty"
   ]
  },
  {
   "cell_type": "code",
   "execution_count": 22,
   "metadata": {},
   "outputs": [
    {
     "data": {
      "text/html": [
       "<div style='display: flex; flex-wrap: wrap;'>\n",
       "            <div style='margin: 10px; padding: 10px; border: 1px solid #ccc; text-align: left;'>\n",
       "                <h4>Notes</h4>\n",
       "                <ul style='list-style-type: none; padding: 0; margin: 0; text-align: left;'><li style='margin: 5px 0;'>- column is empty</li></ul>\n",
       "            </div>\n",
       "        </div>"
      ],
      "text/plain": [
       "<IPython.core.display.HTML object>"
      ]
     },
     "metadata": {},
     "output_type": "display_data"
    }
   ],
   "source": [
    "data = {\n",
    "    'column': []\n",
    "}\n",
    "\n",
    "df = pd.DataFrame(data)\n",
    "\n",
    "explore_string_attribute(df[\"column\"])"
   ]
  }
 ],
 "metadata": {
  "kernelspec": {
   "display_name": "Python (pandas_explore)",
   "language": "python",
   "name": "pandas_explore"
  },
  "language_info": {
   "codemirror_mode": {
    "name": "ipython",
    "version": 3
   },
   "file_extension": ".py",
   "mimetype": "text/x-python",
   "name": "python",
   "nbconvert_exporter": "python",
   "pygments_lexer": "ipython3",
   "version": "3.13.1"
  }
 },
 "nbformat": 4,
 "nbformat_minor": 2
}
