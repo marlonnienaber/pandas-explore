{
 "cells": [
  {
   "cell_type": "code",
   "execution_count": 3,
   "metadata": {},
   "outputs": [],
   "source": [
    "import sys\n",
    "import os\n",
    "sys.path.insert(0, os.path.abspath(\"..\"))\n",
    "\n",
    "import pandas as pd\n",
    "from source.source import explore_string_id "
   ]
  },
  {
   "cell_type": "code",
   "execution_count": 4,
   "metadata": {},
   "outputs": [
    {
     "data": {
      "text/html": [
       "<div style='display: flex; flex-wrap: wrap;'>\n",
       "            <div style='margin: 10px; padding: 10px; border: 1px solid #ccc; text-align: left;'>\n",
       "                <h4>Notes</h4>\n",
       "                <ul style='list-style-type: none; padding: 0; margin: 0; text-align: left;'><li style='margin: 5px 0;'>- contains only valid strings</li></ul>\n",
       "            </div>\n",
       "        \n",
       "                <div style='margin: 10px; padding: 10px; border: 1px solid #ccc;'>\n",
       "                    <table border=\"1\" class=\"dataframe\">\n",
       "  <thead>\n",
       "    <tr style=\"text-align: right;\">\n",
       "      <th>occurring string lengths</th>\n",
       "    </tr>\n",
       "  </thead>\n",
       "  <tbody>\n",
       "    <tr>\n",
       "      <td>5</td>\n",
       "    </tr>\n",
       "    <tr>\n",
       "      <td>6</td>\n",
       "    </tr>\n",
       "    <tr>\n",
       "      <td>4</td>\n",
       "    </tr>\n",
       "  </tbody>\n",
       "</table>\n",
       "                </div>\n",
       "            \n",
       "                <div style='margin: 10px; padding: 10px; border: 1px solid #ccc;'>\n",
       "                    <table border=\"1\" class=\"dataframe\">\n",
       "  <thead>\n",
       "    <tr style=\"text-align: right;\">\n",
       "      <th>entries with duplicates</th>\n",
       "    </tr>\n",
       "  </thead>\n",
       "  <tbody>\n",
       "    <tr>\n",
       "      <td>apple</td>\n",
       "    </tr>\n",
       "    <tr>\n",
       "      <td>banana</td>\n",
       "    </tr>\n",
       "    <tr>\n",
       "      <td>date</td>\n",
       "    </tr>\n",
       "    <tr>\n",
       "      <td>kiwi</td>\n",
       "    </tr>\n",
       "    <tr>\n",
       "      <td>melon</td>\n",
       "    </tr>\n",
       "    <tr>\n",
       "      <td>berry</td>\n",
       "    </tr>\n",
       "  </tbody>\n",
       "</table>\n",
       "                </div>\n",
       "            </div>"
      ],
      "text/plain": [
       "<IPython.core.display.HTML object>"
      ]
     },
     "metadata": {},
     "output_type": "display_data"
    }
   ],
   "source": [
    "data = {\n",
    "    'column': [\n",
    "        \"apple\", \"banana\", \"cherry\", \"date\", \"banana\", \"grape\", \n",
    "        \"kiwi\", \"apple\", \"melon\", \"apple\", \"plum\", \"pear\", \n",
    "        \"berry\", \"citrus\", \"melon\", \"berry\", \"kiwi\", \"date\"\n",
    "    ]\n",
    "}\n",
    "\n",
    "# Create DataFrame\n",
    "df = pd.DataFrame(data)\n",
    "\n",
    "# Call the function with the test data\n",
    "explore_string_id(df['column'])"
   ]
  }
 ],
 "metadata": {
  "kernelspec": {
   "display_name": "venv",
   "language": "python",
   "name": "python3"
  },
  "language_info": {
   "codemirror_mode": {
    "name": "ipython",
    "version": 3
   },
   "file_extension": ".py",
   "mimetype": "text/x-python",
   "name": "python",
   "nbconvert_exporter": "python",
   "pygments_lexer": "ipython3",
   "version": "3.9.7"
  }
 },
 "nbformat": 4,
 "nbformat_minor": 2
}
