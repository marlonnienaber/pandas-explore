{
 "cells": [
  {
   "cell_type": "code",
   "execution_count": 2,
   "metadata": {},
   "outputs": [],
   "source": [
    "import sys\n",
    "import os\n",
    "sys.path.insert(0, os.path.abspath(\"..\"))\n",
    "\n",
    "import pandas as pd\n",
    "from source.source import explore_int_id "
   ]
  },
  {
   "cell_type": "markdown",
   "metadata": {},
   "source": [
    "**1) only int entries**  \n",
    "The function should display that the column contains only int values"
   ]
  },
  {
   "cell_type": "code",
   "execution_count": 5,
   "metadata": {},
   "outputs": [
    {
     "data": {
      "text/html": [
       "<div style='display: flex; flex-wrap: wrap;'>\n",
       "            <div style='margin: 10px; padding: 10px; border: 1px solid #ccc; text-align: left;'>\n",
       "                <h4>Notes</h4>\n",
       "                <ul style='list-style-type: none; padding: 0; margin: 0; text-align: left;'><li style='margin: 5px 0;'>- contains only valid ints</li><li style='margin: 5px 0;'>- valid entries contain no duplicates</li></ul>\n",
       "            </div>\n",
       "        </div>"
      ],
      "text/plain": [
       "<IPython.core.display.HTML object>"
      ]
     },
     "metadata": {},
     "output_type": "display_data"
    }
   ],
   "source": [
    "data = {\n",
    "    'column': list(range(1, 51))\n",
    "}\n",
    "\n",
    "df = pd.DataFrame(data)\n",
    "\n",
    "explore_int_id(df[\"column\"])"
   ]
  },
  {
   "cell_type": "markdown",
   "metadata": {},
   "source": [
    "**2) display non-int entries**  \n",
    "The function should display which non-entries are included in the column and how often they occur (\"a\" -> 2 | 1.0 -> 1)"
   ]
  },
  {
   "cell_type": "code",
   "execution_count": 6,
   "metadata": {},
   "outputs": [
    {
     "data": {
      "text/html": [
       "<div style='display: flex; flex-wrap: wrap;'>\n",
       "            <div style='margin: 10px; padding: 10px; border: 1px solid #ccc; text-align: left;'>\n",
       "                <h4>Notes</h4>\n",
       "                <ul style='list-style-type: none; padding: 0; margin: 0; text-align: left;'><li style='margin: 5px 0;'>- valid entries contain no duplicates</li></ul>\n",
       "            </div>\n",
       "        \n",
       "                <div style='margin: 10px; padding: 10px; border: 1px solid #ccc;'>\n",
       "                    <img src='data:image/png;base64,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' style='display: block; margin: 0 auto;'>\n",
       "                </div>\n",
       "            \n",
       "                <div style='margin: 10px; padding: 10px; border: 1px solid #ccc;'>\n",
       "                    <table border=\"1\" class=\"dataframe\">\n",
       "  <thead>\n",
       "    <tr style=\"text-align: right;\">\n",
       "      <th>non-int entries</th>\n",
       "      <th>count</th>\n",
       "    </tr>\n",
       "  </thead>\n",
       "  <tbody>\n",
       "    <tr>\n",
       "      <td>a (str)</td>\n",
       "      <td>2</td>\n",
       "    </tr>\n",
       "    <tr>\n",
       "      <td>1.0 (float)</td>\n",
       "      <td>1</td>\n",
       "    </tr>\n",
       "  </tbody>\n",
       "</table>\n",
       "                </div>\n",
       "            </div>"
      ],
      "text/plain": [
       "<IPython.core.display.HTML object>"
      ]
     },
     "metadata": {},
     "output_type": "display_data"
    }
   ],
   "source": [
    "data = {\n",
    "    'column': list(range(1, 51)) + [\"a\", \"a\", 1.0]\n",
    "}\n",
    "\n",
    "df = pd.DataFrame(data)\n",
    "\n",
    "explore_int_id(df[\"column\"])"
   ]
  },
  {
   "cell_type": "markdown",
   "metadata": {},
   "source": [
    "**2) float special case**  \n",
    "TODO: treat this case"
   ]
  },
  {
   "cell_type": "code",
   "execution_count": 12,
   "metadata": {},
   "outputs": [
    {
     "data": {
      "text/html": [
       "<div style='display: flex; flex-wrap: wrap;'>\n",
       "                <div style='margin: 10px; padding: 10px; border: 1px solid #ccc;'>\n",
       "                    <img src='data:image/png;base64,iVBORw0KGgoAAAANSUhEUgAAASMAAAFHCAYAAADqRSphAAAAOXRFWHRTb2Z0d2FyZQBNYXRwbG90bGliIHZlcnNpb24zLjkuMywgaHR0cHM6Ly9tYXRwbG90bGliLm9yZy/GU6VOAAAACXBIWXMAAA9hAAAPYQGoP6dpAAAmG0lEQVR4nO3deXwUVb428Ke3dJLOvickgSyQBEgQRUC2EFAERQTB5fUiegf1MuM2XtHrZVxmxrnoqzi+l1FGnVHHYZxR3EBFEdSQQFhcENmSEBLISvZ96/39IxCNIQvQVaeq+/l+PvNh0l2p+nViPTnn1KlTGqfT6QQRkWBa0QUQEQEMIyJSCIYRESkCw4iIFIFhRESKwDAiIkVgGBGRIjCMiEgRGEZEpAh60QW4O4fDgaqqKlitVnCyuzJpNBoYDAbExMRAq+XfZ1E0vB1EWhUVFQAAo9EouBIajNlsBgDExsYKrsRz8c+AxKxWK4NIBYxGI6xWq+gyPBrDSGJseKoHf1diMYzcWHV1NVatWjXoNi0tLfj73//usmO+8sorsFgsA76/ZMkSlx2L3AvHjCRWUlICf3//3q+771jgsn17/+2zi95HWVkZVq5ciR07drigIuCyyy5DTk4O/Pz8+r3ncDgUPUDc1taGxMRE0WV4LOX+l0EXraysDFdddRUA4O2338add96JZcuWYfLkydiwYQMAYO3atTh+/DiysrKwbt26fvvYtGkT5s2bh9mzZ+Pxxx/v3e/s2bNx7733Yvr06bjrrrvgdDrx2muvobq6Gtdeey1uu+02AEBKSgoeffRRZGZmori4GKmpqb37Xr9+PebNm4fMzEy89NJLAND7/bNnz0ZmZiaOHj0q6c+IlIOX9j3IsWPHsH37dtjtdlxxxRW48847sWbNGhQXF5+zZXT8+HFs27YNn376KfR6Pe655x7s2LEDKSkpKCoqwiuvvIIxY8ZgyZIl2L9/P1auXIkNGzZg69atvS2jpqYmzJ07F88880yffWdnZ+P06dP4/PPP4XA4cOONN2LOnDnIzs7G9OnTsWbNGthstkG7fOReGEYeJDMzszckoqKiUFdXN+j2u3btwnfffdfbuurq6sKECROQkpKC5ORkpKSkAADS09NRVlaGqVOn9tuHj49P7/f/1M6dO7Fjxw7s27cPANDe3o7i4mJMnDgR9957L3Q6Ha677jqMHTv2oj4zqQfDyIN4eXn1/n+dTge73T7o9g6HA8uXL8fDDz/c5/WysrI++9JqtXA4HOfch4+Pz4D7Xr16NW655ZZ+733yySfYvn07Vq1ahTVr1mD+/PmD1knugWNGHs7Pzw/t7e3nfG/mzJnYsmULGhsbAQB1dXWoqakZcn8dHR1DHjcrKwtvvfUWOjs7AfQEXGtrK8rLyxEREYHbb78dy5Ytw7Fjx87zE5FasWXk4UJCQpCRkYHMzExcd911WL16de97qamp+PWvf42lS5fC4XDAaDRi/fr18PX1HXB/y5cvx5IlS5CUlISNGzcOuN2cOXNQWFiIBQsWwOl0IiAgAK+//jry8vKwYcMG6PV6BAYG4uWXX3bp5yXl4qV9if380j4pFy/ti8VuGhEpAsOIiBSBYUREisAwIiJFYBgRkSIwjIhIERhGdN4OHjyI3/72t4NuU1ZWhi1btrjsmH/6058GfG84S6WQ8nGekcR+Ps/omr8ddtm+P70j3WX7crW8vDy89tpreP31112yv9TUVBQUFPR73ZXLknCekVhsGbmxgZb6AHrums/KysKsWbPw+OOP976empqKJ598EpmZmVi6dOk5b+3Iy8vDL37xCwDAs88+iwcffBCLFi3CpEmT8OGHHwLoWZokNzcXWVlZ+Mc//tFvH+daPiQvLw/Lli3DihUrMHXq1N4lS9auXYuWlhZkZWVh9erVKCsrQ2ZmJu6++27MmDEDx48f770Z126344knnuhd9uS9994D0LNiwdy5c5GVlYWsrKwhbxIm+TGM3FxRURHuu+8+7N69G3V1ddi/fz+6urrw0EMP4c0338TOnTtRXFyMrVu3AgAaGxsxZ84c5OTkICoqqvf1wZw6dQrvv/8+3n33XTz99NMAgDVr1mDWrFnIzs7G8uXL+2z/0+VDvvrqK3z55ZfIz88HABw+fBjr1q1Dbm4utm/fjoqKCqxZswaBgYHIzs7uXXPp+PHjeOCBB7Bnzx54e3v37vutt95CZGQktm/fjs8++wwvvvgiGhsbsXHjRtxxxx3Izs7Gp59+isDAQJf8fMl1eG+amzvXUh8mkwlJSUmIj48HACxduhT79+/HwoULYTKZkJmZCQCYMGECysvLhzzGVVddBYPBgISEBLS2tg65/UDLhwQHB+Pyyy9HREQEgJ5WWkVFxTmf2JGUlIRx48adc98FBQW9LaK2tjaUlpZi0qRJeP7559HU1IRFixZh1KhRQ9ZJ8mIYubnhLvVx1k+fZHJ2mZHKysre1s0DDzyA8PDwAb9nOAZaPiQvL2/Yy5wMtjTJunXrMG3atD6vT5w4ERMnTsT27dtx44034rXXXkNGRsZ51U3SYjfNAyUnJ6OkpATl5eVwOBz48MMPz7kw2lkjRoxAdnY2srOzsXjx4mEdY7ClSQZaPmQwWq12yPWXAGD27Nl44403erfNz8+H3W7HqVOnkJCQgFWrVmH27NkoLCwc1ucg+bBl5IF8fHywbt06rFixAna7HZmZmbjmmmtceoyxY8fCZrMhKysLK1eu7DNuNNDyIYO5+eabkZmZialTp+L+++8fcLvbbrsNZWVlmDNnDpxOJyIiIvD2229jy5YteO+996DX6xEXF+fyz0sXj5f2JcYlRNSDl/bFYjeNiBSBYUREisAwIiJFYBhJTKPRiC6Bhom/K7EYRhIzGAwwm82iy6AhmM1mGAwG0WV4NF5Nk5jD4UBVVRWsViv4o1YmjUYDg8GAmJgYl910S+ePYUREisA/A0SkCAwjIlIEhhERKQLDiIgUgWFERIrAMCIiRWAYEZEiMIyISBEYRkSkCAwjIlIEhhERKQLDiIgUgWFERIrAp4PQBbM7nLA5HHA4AI0G0Os00HMJDrpADCMCALSbbajvMKOh3YL6DjPq2y2oazejvsOChjNfN3ZaYLY5YHM44XA4MdDaMzqN5kwwaRDoY0C4nxFhJi+E+RkRavLq83WYyQuBPgauskhcz8iTOJxOlDZ2Ir+6DYU1bThe14aa1p7A6bIO/YBEqRh0mp6QMhmRGG5CWmQAUiP9MTrcD156trQ8BcPITTmcTpxq6ERBTSvya9pQUN2G47Xt6BQYOudLr9UgIdSEtCh/pEb6Iy3SH6Mj/GDU60SXRhJgGLmJ1m4r9p5swOGqVuRXt6Gorl1oa0cqOq0GiaEmpEb6Y2yUP6YlhiIm0Ed0WeQCDCMVK2/qRO6JeuwqrsfByhbYHZ75q0wKM2FWchhmJYVhXHQAx59UimGkIg6nE4crW5Bb3BNAJxs6RZekOKEmL8xIDMXM5DBMGRkCbwO7dGrBMFK4TosN+041IvdEPfacbEBTp1V0Saph1Gtx+chgzEoKw8ykMIT5GUWXRINgGCmQ0+nE16VN2HyoCrkn6mGxO0SXpHoaAJfEBmFxRjTmpkRwEFyBGEYKUt9uxsdHTmPLoSpUtnSLLsdtBXjrsWBsFBZnxCA53E90OXQGw0gBvi1rwjsHKrCruN5jB6FFGR8dgBsnxuKq1AgYdJzTJBLDSBCzzY5tx2rwzoEKFNW1iy7H44WavLD0khFYOmEEQkxeosvxSAwjmTV0WLDpQDk++KEKzV0cjFYaL50WV6VGYPnl8ezCyYxhJJN2sw0bvynDv74td8vJiO5GA2BeWiRWzUhEbBAnVcqBYSQxi82B9w5W4I19pWwJqZBeq8ENE0Zg5RWj2H2TGMNIIg6nE1uPVuPVvBJUt5pFl0MXydegw62T4rB8cjxMXlzsQgoMIwnkFNVhw+4SlNR3iC6FXCzIx4B/nzoKyy4ZwRUFXIxh5ELfVzTjxZxiHKpqEV0KSSw6wBt3T0/ANeOioOW9cC7BMHKB0y1dePbL49hd3CC6FJJZUpgJj1w5BpfGBYsuRfUYRhfB6XTigx+qsH7nCVWtE0SupQFw06WxuHdWEm/MvQgMowt0uqULT20rwDdlTaJLIYWIDfLB4/NT2Uq6QAyjC/DBwUqszzmBDgtbQ9QXW0kXjmF0Hqpbu/HUtnx8XcrWEA0uLsgHjy9Iw8TYINGlqAbDaJg++KES63eyNUTDp9X0tJLumclW0nAwjIZQ3dqN//m8APtONYouhVQqLsgHTyxIwyVsJQ2KYTSIXcX1ePyTo2wN0UXTaoA7pyXgzitGcY3uATCMBvDGvlN4eXcJuLwQudLcMeH47TVj2W07B4bRz3Rb7fjD5wX4PL9GdCnkpsZE+OH5JRmICvAWXYqiMIx+orbNjNWbDyG/uk10KeTmQnwN+L/Xp3Mc6ScYRmccrmrBw5sPo6HDIroU8hAGnQaPXJmCxRkxoktRBIYRgK1HTmPt9kI+hYOEuGliLB6ckwy91rNXAfDoMLI7nFifcwL//LZcdCnk4S6PD8bTi8Yj0McguhRhPDaM2s02rPn4CPae5PwhUobYIB/88YYMJISaRJcihEeGUUuXFfe+exAFNRyoJmUJ9DHgxRsvQWqkv+hSZOdxYdTYYcE9m77HCa7CSArlb9Tjf5dNQHpMoOhSZOVRYVTXbsav3vkepxo7RZdCNCiTlw4vLJ3gUTfaekwYVbd241fvfI/y5i7RpRANi7dBi+eXZGDyyBDRpcjCI8Kopq0bd//rAKr4/HpSGaNeiz/e4BmB5PYTG+rPdM0YRKRGZpsDD314CN9XNIsuRXJuHUZNnRb8atNBlDWxa0bq1W114MH3f8ARN3/qjNuGUWu3FfdsOoiTDbxqRurXYbHj/vd+QKEbT0dxyzDqtvb84orq2kWXQuQybWYb7nn3IErd9GqwW4bR77fl4+jpVtFlELlcS5cVD314CO1mm+hSXM7twuj1vaewo6BWdBlEkilt7MSaj4/A4WYXwt0qjHJO1OHl3SWiyyCS3N6TjVi/84ToMlzKbcLoRF07ntx6DO71t4JoYG99W46tR06LLsNl3CKMmrusWP3hIS6cTx5n7fZCt7nkr/owsjkc+O+PDqOSkxrJA1nsDjy8+TBq28yiS7loqg+j578swrdlzaLLIBKmvsOC1ZsPwWxTd89A1WH0wcFKvHewUnQZRMLlV7fhqW0Fosu4KKoNo+8rmvHcl8dFl0GkGJ/n1+DN/aWiy7hgqgyjdrMNT2w9ChufsEjUx593lyC/Wp0TflUZRv+78wSqW9U/YEfkanaHE7/7LB9WFT7pRnVhtO9kAzYfqhJdBpFiFdd34K97Toou47ypKozazTb84XN1D9IRyeHNr8tU111TVRj9v51FqHGD+RREUlNjd001YbT3ZAO2HHKfqe9EUiuu78CreerprqkijNg9I7owG78uU81yOqoIoxeyi9xiujuR3OzOnu6axab87priwyivpAEfHWb3jOhCnWzowKsquLqm6DBqN9uwdju7Z0QX6x8q6K4pOoz+tr+U3TMiF7A7nXj+K2XfPqXYMKprN+Pt78pFl0HkNg5XtSKnqE50GQNSbBj9Je8kzCoYdCNSk5d2lSh27WxFhlFpYyc+cqPlNImU4mRDB7YerRZdxjkpMoxe3l0CO+/IJ5LEq3klirzUr7gwOlbdii8L+aghIqlUt5rx7vcVosvoR3Fh9GJOMZ/wQSSxN/aXKu5BkIoKo/2nGvFNWZPoMojcXkuXFRu/VtaqkIoJI6fTiZdyi0WXQeQx/vVdBerblTOPTzFh9EVhLfJr2kSXQeQxuqx2vLb3lOgyeikijBxOJ17erfx7Z4jczeZDVahq6RJdBgCFhNGu4nqUNXWKLoPI49gcTrxzQBlX1hQRRm9/p4wfBpEn+ujwaXRaxF9ZEx5GJ+ra8S2voBEJ02624ZMj4mdlCw+jtw/wZlgi0d45UAGn4HvWhIZRc5cV247ViCyBiACUNXViz8lGoTUIDaOPD1fxznwihXhP8C0iQsNoM5/2QaQYe082oqatW9jxhYXRd+VNvJxPpCB2p1PoevPCwmjzD3xENZHSfHS4Stjia0LCqKXLimwFL39J5KmqW83YK2ggW0gYfXasmgPXRAq15ZCYXouQMPrqOBdPI1KqPScb0G21y35c2cOopcuKQ5XKfn4TkScz2xzYXyp/V032MMorqYddoU8nIKIeu07Uy35M2cMoV8CHJKLzs6u4QfbbQ2QNI6vdgX2nxE45J6KhNXZaZH8ctqxh9F1ZEzos8g+MEdH5yy2WtxcjaxjtKm6Q83BEdBHkHjeSOYw4XkSkFifqO2Rdkla2MDpe24bTreJuwiOi8yfnBSfZwoitIiL1kfO8lS2MeEmfSH0OlDfL9uRZWcKopcuK/Go+E41IbWwOp2xr1MsSRgU1beCcayJ1yq+WZ76RLGGUX8N70YjUSq4nPcsSRoU17XIchogkUOhOYSRXM4+IXK+x0yrL2tiSh1FrtxWVLZxfRKRmBTJcgJI8jApkauIRkXTkGDeSPox4SZ9I9eRoVEgeRnKNxBORdOSYJ8huGhENqbHTgto2s6THkDSM2rqtqGiW765fIpKO1PMFJQ2jwlrOLyJyF1LPN5I0jE42dEi5eyKS0ckGaR9HL2kY1bdL28ckIvlIfT5LGkZ17RYpd09EMqpTcxjVd7BlROQu6jukbVxI3E1jy4jIXZhtDkkXWpM0jBrYMiJyK1KOG0kWRjaHA02dVql2T0QCSDluJFkYNXRYuLojkZuRctxIsjDieBGR+5HyvJYujDheROR2pDyv9VLtmC0jUjK7uQvVOe+go6wAHeUFsHe1YdRNDyNs0vx+23bVlKL84z+j/dRhaHQGBKZNQdzCX8LgF9RnO6fDgercTajb+zGsbQ3wDotFVNatCJ04Z1g12braUbH1VTQf3Q2HxQxTXApiF66CKXbMj8dwOnH6i42o2/8JnHY7QibOQew1d0OrN/T5bEeeux2x1/4HQifOvbAf0ABUOYDN2dekZLaOFpz+YiO6a0vhG5044HaW5joUvvwgzA2VGDF/JaIyb0RL/n4c/8sjcNj6XqCp/Px1VH76FwSMvgzx198Hr6AInPzX/6Dx4FdD1uN0OFD0+ho0HvwSEdMWI/bau2DtaEbhKw+hu66id7vG77/A6a/+ibDLFyBy1jLUf7MNNbnv9tnX6a/egldwlMuDCJB2zEiyllFrtzwPfiO6EIaAEEx4/F0Y/EPQUV6I/D/96pzbnc7+JxyWbqTd/2cYgyMBAKa4VBz/yyNo+PZzhE9dCACwtNShJvddhE+7HiMX3w8ACJt8DQpffhDlW19FcEYmNFrdgPU0Hc5FR+lRJC5/AiEZmQCA4IzZOPLc7aja8SYSb/0NAKA5fx9CJs7FiKv/HQDgsFrQfGwPoufcCgDobqhC7e4PkLLqBRf8lPpr7ZLuCrmkl/aJlEqr94LBP2TI7ZoO5yIwbWpvEAFAwOjLYAyLReOhnN7Xmo/ugdNuQ8QVi3pf02g0CJ+6CNaWOrSXHhvyOHq/YASPn9n7msEvCMEZmWg+ugcOW0+LxGm1QO/j17uN3tcfDuuPvZCKT/6M4AlZMMWlDPnZLoTNId01csnCyC5h0URysLTUwdbeDN+fjNmcZYpPRWdVUe/XnVUnoPXyhnfEyH7bnX1/MJ2VJ+A7YjQ02r6npCkuFQ5rd29XzTcuBY0Hs9Feegydp0tQt/8TmOJ6jtFy/Fu0njiI2AUrz//DDpOU57Vk3TQpE5RIDtbWRgCAl39ov/cM/iGwd7bBYbNAq/eCtbUBBr9gaDSaftv17Kth8GO1NcA/Mf0cxwn98fujExE5/Qa0Fn6DgpfuAwB4R45CzFUr4LTbUf7xBkTPuXVYLb4LJeV5zTAiGoDD1tP90fzkStVZWr1XzzbWnjBy2CxDbDf4BR2H1QLNmW37fL+h7/frvH2RsuoFdNeVwWm3wydyFDQ6HWp2fwCnzYrImcvQVXMKZR+uR3d9BfyTLsHIJQ9A5206j08+MClbRuymEQ1AqzcCAJy2/oO2Z8dwzoaFVu81xHbGwY9l8ILT1v9KlcPa//s1Wi18IkfBNyYJGp0O1o4WVO34O2Kv/Q9Ao0HRG4/BJzoRybc/BUtzLcq2/Gk4H3dYVDlmRKR2hoCe7o6lrX8Xy9rWCJ2vf2/LxxAQCmtbE5xOZ7/tzr4/6LH8Q2E50y3s+/0NQ35/1edvwHfEaASPn4GOsmOwtjYg9pq7YYpLQcxVt6Px4E44XXRBySnhTV6ShZFWM/Q2RErmFRgOvSkInRXH+73XUVYA35jk3q99Y5J6BpprS3+2XX7v+4PxjUlCZ2VRv9DoKCuA1uAN7/DYc35fZ1Ux6r/ZhvhFPVMTrC0N0Pv497bYvALC4LRbYetoHvzDDpNOI92JLVkY6ZhG5AaC02eiJX8fLM21va+1Fh2Aub4CwemZva8FjZ0OjU6P2r0f9b7mdDpRt+9jGALD4DdyXO/rltYGdNWWwWH/cS5ecPos2Nqb0HRkV+9r1o4WNB3OQeDYqb0tsJ8r++glhE1eAJ+oBACA3j8Yto5m2Dp7nuTRVVsKjVYHvSnwIn8SPaQ8ryUbwNZr2QMkZavN2wxbd3vvla7mY/tgaakHAERMWwy9jx+i59yKpkM5KHzlIUTMuAEOcxeqczbBJyoBYZdf3bsvr6BwRMy4ATU5m+C022CKTUHz0Ty0nzyMhP+zps+Ex8rP/oqG77Yj/dG3YAyJAgAEZ8yCaXcaTm16Dt01pdCbAlG79yM4HQ6MuOqOc9bfeCgHXadLkHzbk72v+Y0cC71/MIr/8XsEj5+B6px3ETR+5qATLs+HXo1hxJYRKV117iZYmmp6v24+sgvNZ1omoROvhN7HD15BEUhZ9QLKP/kzKj/9KzR6PQJTpyBu4ap+rZXYBXdB7+OPuv2foOHb7TCGjUDCLf89rNsyNFodRv/iaVRsfQW1eR/CYbXANy4FCTc9Au+IuH7bO6xmVGx9BTHzbu/T6tHqvZC84vco/eAFVHz2GvwTJyB+8X0X+iPqRydhI0Pj/PmIm4s8s6MQ7x+slGLXRCRIQqgJm34xRZJ9SxZz3np204jcjZTntWR7DjUNPq+CiNQn1O/cA+muIFkYhUlYNBGJESZhI0O6MDIxjIjcjZTntYQtI3bTiNyNlOe1ZGEUzjAicjtSDr9IFkZ+Rj2MvKJG5FZUOWYEcNyIyN2osmUEcNyIyJ1oAISqcQAb4LgRkTsJ9jVIes+ppGEkZYoSkbyknsgscTeNYUTkLqQ+nyUNo+gAbyl3T0QyivKX9nyWNIxSIvyl3D0RySg1UtrzWdIwig/xha/BNYs6EZFYqVEqDiOtRoOUSL+hNyQiRdNrNUgOk/ZclnyKdGpkgNSHICKJJYWZ4CXxHRUyhBFbRkRqJ/V4EcCWERENg1uE0ahQX/hwEJtI1dKipG9USB5GWo0GYyLYVSNSK51Wg+Rwk+THkWWNDzmaeEQkjcRQE4x66Xs3soRRGsOISLXSJJ5fdJY8LSOZPgwRuZ5cPRtZwigh1IRAb8keXktEEpowInDojVxAljDSajSYlhgqx6GIyIWiAowYI9M9prItUj0zKUyuQxGRi8xIlO+8lS2MrkgIhUGnketwROQCs5LdMIz8jHpcGhsk1+GI6CKZvHSYFB8s2/FkfZbQTBlTloguzpRRITDo5IsIWcNoFseNiFRD7vNV1jCKDvTB6HDeGkKkdDqNBtPdOYwAYGYSL/ETKV16TACCfAyyHlP2MJqVHC73IYnoPMl5Fe0s2cNobJQ/H3tNpHAiLjbJHkYajQYzOJBNpFjxwb4YFSL9kiE/J3sYAcC146JEHJaIhkHU+SkkjC6JDUJCqK+IQxPRIHQaDa5LjxZybCFhBADXp8eIOjQRDWB6UijC/YxCji0sjK4dF8V71YgUZnGGuEaCsDAK8vXC7NG8zE+kFBH+RkxLEDcPUFgYAcDSCSNEHp6IfuL69GjotOJ6K0LD6LL4YCSHyX8JkYj6Mug0uEFw40BoGAHAzZfFiS6ByONdmRKBMEED12cJD6P5aZEIlPkeGCLq6xYFNAqEh5G3QYclAkfwiTxdRkwgxsrwxNihCA8jALhxYqzQgTMiT3bLZbGiSwCgkDCK8Ddi4XjeIkIkt4RQX8wZEyG6DAAKCSMAuHtaIox6xZRD5BF+OSNJMb0SxZz9Ef5G3HypMpqLRJ4gPToAWWOUM/FYMWEEALdPGQl/I588SySHezKTRJfQh6LCKMDbgNunjBRdBpHbm5YQisvi5HsM0XAoKowA4OZLYxHux5UgiaSiAXDPrETRZfSjuDDyNuhw57QE0WUQua15aZEYE+Evuox+FBdGALAoPRrxwVx8jcjV9FoNVs1QXqsIUGgY6bVa/GqmMn9gRGp2w4QRiA3yEV3GOSkyjABgbkoExkYprylJpFa+Bh1WXjFKdBkDUmwYAcB9mcmiSyByG/92eRxCFPyYMEWH0aT4YCwStDg4kTtJDDPhjimjRJcxKEWHEQA8mDUaEf5i11khUjOdRoMn5qfBS+G3Wym7OgB+Rj1+c3Wq6DKIVOu2yfEYFy1+iZChKD6MgJ7Zotezu0Z03hLDTLh7ujrm7akijADg11mjEcnuGtGw6bQaPLkgDQadOk5zdVSJnu7aY+yuEQ3bisnxiljBcbhUE0YAMDUhFNdnsLtGNJSkMBPuUtltVaoKIwD49Wx214gGo7bu2VnqqhY93bXH56eJLoNIsW6fHI80FXXPzlJdGAHAlFEhfBot0TmMDvdT7aoXqgwjAPjPOaMxXgVzJ4jkEuhjwLOL01XXPTtLnVUD8NJr8dzidEQIfgomkRLotBo8s2i8Yu/IHw7VhhEAhPkZ8dySdD5VhDzef2aNxqR4ZS0je75UfxaPjQrg/CPyaDdMiMFNbvBkHdWHEQDMHxuFFZPjRZdBJLuJsUF4eO4Y0WW4hFuEEQDcMysJM5JCRZdBJJuYQG88e/146FU6YP1z7vEpAGg1Gvxh4TgkhJpEl0IkOR+DDusWZyDIV7mLpZ0vtwkjADB56fHHJekI9OaDIMl9aQD89po0jI7wE12KS7lVGAFAbLAv1i4ar5jnhxO52l3TEjBnTIToMlzO7cIIACaPDMFjV6eCcUTu5vqMaNw5bZToMiThlmEEAAvHR+PReSmiyyBymWvGRmHNvFRoNO75Z9ZtwwjoeUbUQ3NGiy6D6KJdmRKBJxakQeumQQS4eRgBwC2XxeG+WUmiyyC6YJnJYXhq4Vi3Hwd1+zACgBVTRmLVDHXeyUyebUZiKJ5eNB56rfufqhqn0+kUXYRcNn5divU5xaLLIBqW2aPDsfa6caq9C/98eVQYAcA7B8rx/JdF8KgPTaozLzUCv7t2rEe0iM7yuDACgA9+qMQz2wsZSKRI146LcvvB6nPxyDACgE+PnsZT2wpgc3jkxyeFWnrJCPzXlWPc9vL9YDw2jADgu/ImPLrlCJq7rKJLIQ+n02rwYFYybr40TnQpwnh0GAFAVUsXHvrgEE7Ud4guhTxUoLceaxeNx+SRIaJLEcrjwwgAOi02PPlpPnYW1YkuhTxMQqgJzy9JR1ywr+hShGMYneF0OvFK3km8vvcUB7ZJFjOSQvHUtePgZ+QqEwDDqJ8vCmvxu8+OodvqEF0KubEVk+Nxz6wkj7tiNhiG0TkU1rRh9eZDqG41iy6F3IxRr8VjV6di/tgo0aUoDsNoAI0dFjyy5TB+qGwRXQq5iYgzT7MZq8KnvcqBYTQIq92BF3OK8faBcnA6El2MqaNC8OSCNITxOX8DYhgNw8GKZjy1LR9lTV2iSyGVMXnp8GDWaFyfESO6FMVjGA1Tt9WODbtK8A5bSTRMU0eF4DdXpyIqwFt0KarAMDpP31c04/ef5aOima0kOjeTlw4PzE7GkgkjRJeiKgyjC9BttePF3GJsOlDBOUnUx5SRwXhsfhpbQxeAYXQRDpQ34altBWwlEUxeOtw/Oxk3sDV0wRhGF4mtJJo8MhiPXZ2K6EAf0aWoGsPIRY5Vt+LFnGJ8U9YkuhSSSXywL345MxFzx4R75JIfrsYwcrH9pxrxUm4x8mvaRJdCEgn388Kd0xKwKD3ao1ZilBrDSAJOpxNfFNbi5d0lnJvkRvyNeqyYEo9bLo2Dt0Enuhy3wzCSkM3hwJZDp/HXPSdR32ERXQ5dIKNei5smxuKOqSMR4G0QXY7bYhjJoNtqx7++K8ffvy5Du9kmuhwaJp1Gg4XpUbh7WiIi/Hkbh9QYRjJq6bLib/tL8f7BSnRZ7aLLoQFoNUDW6HCsmpGIUaEm0eV4DIaRAG3dVmw5fBrvfl+BqpZu0eXQGX5GPRaNj8aNl8YiNoiX6eXGMBLI7nAi90Q93j5QjgPlzaLL8VjxwT64+dI4LBwfBV8vrrooCsNIIYpq27H5UBU+O1aNNo4rSU6v1WBWchgWZ8Rg6qgQzhNSAIaRwnRb7fiysBabD1XhIBd2c7m4IB9cnxGDheOjEWryEl0O/QTDSMFONnRg27Fq7CpuQFFdu+hyVCvCz4iZSWG4MjUCl8UFsRWkUAwjlTjd0oXc4nrsOlGPAxXNsNr5axtMaqQ/ZiaFYlZyOFIj/UWXQ8PAMFKhdrMN+041IvdEHfaUNKClm2NMXjotJsUHY2ZSKGYmhyHSn0t4qA3DSOXsDid+qGxG7ol67C5pQGljp+iSZBPi64VpiSGYmRSGqaNCeCVM5RhGbqaly4qCmrY+/3OH9ZZCfA1IjQxAapQ/0iL9kRrpzwXM3AzDyAO0df8YUPk1bSio7gkopf7iQ01evYGTGumP1Ch/drs8AMPIQ7WbbSiqa0dNazfqOyyobzf3+7fD4vpbVox6LUJNXggzGRHm95N//YwIN3khKdwP4Xycj0diGNGAuix21Hf8GE4NHRZY7Q7YHE7YHE7Yz/zrcDih0QB6nRZ6jQY6rQZ6rQZ6nQZBPgaE+Rl7Q4d3vdNAGEZEpAhcpo6IFIFhRESKwDAiIkVgGBGRIjCMiEgRGEZEpAgMIyJSBIYRESkCw4iIFIFhRESKwDAiIkVgGBGRIjCMiEgRGEZEpAgMIyJSBIYRESkCw4iIFIFhRESKwDAiIkVgGBGRIvx/+7yUoAlyV1YAAAAASUVORK5CYII=' style='display: block; margin: 0 auto;'>\n",
       "                </div>\n",
       "            \n",
       "                <div style='margin: 10px; padding: 10px; border: 1px solid #ccc;'>\n",
       "                    <table border=\"1\" class=\"dataframe\">\n",
       "  <thead>\n",
       "    <tr style=\"text-align: right;\">\n",
       "      <th>non-int entries</th>\n",
       "      <th>count</th>\n",
       "    </tr>\n",
       "  </thead>\n",
       "  <tbody>\n",
       "    <tr>\n",
       "      <td>1.0 (float)</td>\n",
       "      <td>1</td>\n",
       "    </tr>\n",
       "    <tr>\n",
       "      <td>39.0 (float)</td>\n",
       "      <td>1</td>\n",
       "    </tr>\n",
       "    <tr>\n",
       "      <td>29.0 (float)</td>\n",
       "      <td>1</td>\n",
       "    </tr>\n",
       "    <tr>\n",
       "      <td>30.0 (float)</td>\n",
       "      <td>1</td>\n",
       "    </tr>\n",
       "    <tr>\n",
       "      <td>31.0 (float)</td>\n",
       "      <td>1</td>\n",
       "    </tr>\n",
       "    <tr>\n",
       "      <td>32.0 (float)</td>\n",
       "      <td>1</td>\n",
       "    </tr>\n",
       "    <tr>\n",
       "      <td>33.0 (float)</td>\n",
       "      <td>1</td>\n",
       "    </tr>\n",
       "    <tr>\n",
       "      <td>34.0 (float)</td>\n",
       "      <td>1</td>\n",
       "    </tr>\n",
       "    <tr>\n",
       "      <td>35.0 (float)</td>\n",
       "      <td>1</td>\n",
       "    </tr>\n",
       "    <tr>\n",
       "      <td>36.0 (float)</td>\n",
       "      <td>1</td>\n",
       "    </tr>\n",
       "    <tr>\n",
       "      <td>37.0 (float)</td>\n",
       "      <td>1</td>\n",
       "    </tr>\n",
       "    <tr>\n",
       "      <td>38.0 (float)</td>\n",
       "      <td>1</td>\n",
       "    </tr>\n",
       "    <tr>\n",
       "      <td>40.0 (float)</td>\n",
       "      <td>1</td>\n",
       "    </tr>\n",
       "    <tr>\n",
       "      <td>27.0 (float)</td>\n",
       "      <td>1</td>\n",
       "    </tr>\n",
       "    <tr>\n",
       "      <td>41.0 (float)</td>\n",
       "      <td>1</td>\n",
       "    </tr>\n",
       "  </tbody>\n",
       "</table><p style='color: grey;'>(truncated to 15 rows)</p>\n",
       "                </div>\n",
       "            </div>"
      ],
      "text/plain": [
       "<IPython.core.display.HTML object>"
      ]
     },
     "metadata": {},
     "output_type": "display_data"
    }
   ],
   "source": [
    "data = {\n",
    "    'column': list(range(1, 51)) + [None]\n",
    "}\n",
    "\n",
    "df = pd.DataFrame(data)\n",
    "\n",
    "explore_int_id(df[\"column\"])"
   ]
  },
  {
   "cell_type": "markdown",
   "metadata": {},
   "source": [
    "**3) display no duplicates**  \n",
    "The function should display that the int entries contain no duplicates"
   ]
  },
  {
   "cell_type": "code",
   "execution_count": 8,
   "metadata": {},
   "outputs": [
    {
     "data": {
      "text/html": [
       "<div style='display: flex; flex-wrap: wrap;'>\n",
       "            <div style='margin: 10px; padding: 10px; border: 1px solid #ccc; text-align: left;'>\n",
       "                <h4>Notes</h4>\n",
       "                <ul style='list-style-type: none; padding: 0; margin: 0; text-align: left;'><li style='margin: 5px 0;'>- contains only valid ints</li><li style='margin: 5px 0;'>- valid entries contain no duplicates</li></ul>\n",
       "            </div>\n",
       "        </div>"
      ],
      "text/plain": [
       "<IPython.core.display.HTML object>"
      ]
     },
     "metadata": {},
     "output_type": "display_data"
    }
   ],
   "source": [
    "data = {\n",
    "    'column': list(range(1, 51))\n",
    "}\n",
    "\n",
    "df = pd.DataFrame(data)\n",
    "\n",
    "explore_int_id(df[\"column\"])"
   ]
  },
  {
   "cell_type": "markdown",
   "metadata": {},
   "source": [
    "**4) display duplicate entries**  \n",
    "The function should display which values have duplicates (1 | 10)"
   ]
  },
  {
   "cell_type": "code",
   "execution_count": 11,
   "metadata": {},
   "outputs": [
    {
     "data": {
      "text/html": [
       "<div style='display: flex; flex-wrap: wrap;'>\n",
       "            <div style='margin: 10px; padding: 10px; border: 1px solid #ccc; text-align: left;'>\n",
       "                <h4>Notes</h4>\n",
       "                <ul style='list-style-type: none; padding: 0; margin: 0; text-align: left;'><li style='margin: 5px 0;'>- contains only valid ints</li></ul>\n",
       "            </div>\n",
       "        \n",
       "                <div style='margin: 10px; padding: 10px; border: 1px solid #ccc;'>\n",
       "                    <table border=\"1\" class=\"dataframe\">\n",
       "  <thead>\n",
       "    <tr style=\"text-align: right;\">\n",
       "      <th>contained duplicates</th>\n",
       "    </tr>\n",
       "  </thead>\n",
       "  <tbody>\n",
       "    <tr>\n",
       "      <td>1</td>\n",
       "    </tr>\n",
       "    <tr>\n",
       "      <td>10</td>\n",
       "    </tr>\n",
       "  </tbody>\n",
       "</table>\n",
       "                </div>\n",
       "            </div>"
      ],
      "text/plain": [
       "<IPython.core.display.HTML object>"
      ]
     },
     "metadata": {},
     "output_type": "display_data"
    }
   ],
   "source": [
    "data = {\n",
    "    'column': list(range(1, 51)) + [1,1,1,10,10]\n",
    "}\n",
    "\n",
    "df = pd.DataFrame(data)\n",
    "\n",
    "explore_int_id(df[\"column\"])"
   ]
  }
 ],
 "metadata": {
  "kernelspec": {
   "display_name": "venv",
   "language": "python",
   "name": "python3"
  },
  "language_info": {
   "codemirror_mode": {
    "name": "ipython",
    "version": 3
   },
   "file_extension": ".py",
   "mimetype": "text/x-python",
   "name": "python",
   "nbconvert_exporter": "python",
   "pygments_lexer": "ipython3",
   "version": "3.9.7"
  }
 },
 "nbformat": 4,
 "nbformat_minor": 2
}
